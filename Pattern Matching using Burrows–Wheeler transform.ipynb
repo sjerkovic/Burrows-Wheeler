{
 "cells": [
  {
   "cell_type": "markdown",
   "metadata": {},
   "source": [
    "# Pattern Matching using Burrows–Wheeler transform"
   ]
  },
  {
   "cell_type": "markdown",
   "metadata": {},
   "source": [
    "These are the solutions for code challenges in the Week 2 of Finding Mutations in DNA and Proteins (Bioinformatics VI) course by University of California San Diego."
   ]
  },
  {
   "cell_type": "markdown",
   "metadata": {},
   "source": [
    "## 1.Suffix Array Construction Problem: Construct the suffix array of a string.\n",
    "\n",
    "Input: A string Text.\n",
    "\n",
    "Output: SuffixArray(Text)."
   ]
  },
  {
   "cell_type": "code",
   "execution_count": 1,
   "metadata": {},
   "outputs": [],
   "source": [
    "def suffix_array(text):\n",
    "    suffixes = {}\n",
    "    for i in range(len(text)):\n",
    "        suffixes[text[i:]] = i\n",
    "    array = []\n",
    "    for s in sorted(suffixes.keys()):\n",
    "        array.append(suffixes[s])\n",
    "    return array"
   ]
  },
  {
   "cell_type": "code",
   "execution_count": 2,
   "metadata": {},
   "outputs": [
    {
     "data": {
      "text/plain": [
       "[15, 14, 0, 1, 12, 6, 4, 2, 8, 13, 3, 7, 9, 10, 11, 5]"
      ]
     },
     "execution_count": 2,
     "metadata": {},
     "output_type": "execute_result"
    }
   ],
   "source": [
    "suffix_array('AACGATAGCGGTAGA$')"
   ]
  },
  {
   "cell_type": "markdown",
   "metadata": {},
   "source": [
    "## 2.Burrows-Wheeler Transform Construction Problem: Construct the Burrows-Wheeler transform of a string.\n",
    "\n",
    "Input: A string Text.\n",
    "\n",
    "Output: BWT(Text)."
   ]
  },
  {
   "cell_type": "code",
   "execution_count": 3,
   "metadata": {},
   "outputs": [],
   "source": [
    "def burrows_wheeler_transform(text):\n",
    "    matrix = []\n",
    "    matrix.append(text)\n",
    "    for i in range(1,len(text)):\n",
    "        \n",
    "        string = text[(len(text)-i):(len(text))] + text[0:(len(text)-i)]\n",
    "        matrix.append(string)\n",
    "    #bwt = '' if we want a string\n",
    "    # if we want a list:\n",
    "    bwt = []\n",
    "    for i in sorted(matrix):\n",
    "        bwt.append(i[-1])\n",
    "    return bwt\n",
    "        "
   ]
  },
  {
   "cell_type": "code",
   "execution_count": 4,
   "metadata": {
    "scrolled": true
   },
   "outputs": [
    {
     "data": {
      "text/plain": [
       "['A', 'C', 'T', 'G', 'G', 'C', 'T', '$', 'T', 'G', 'C', 'G', 'G', 'C']"
      ]
     },
     "execution_count": 4,
     "metadata": {},
     "output_type": "execute_result"
    }
   ],
   "source": [
    "burrows_wheeler_transform('GCGTGCCTGGTCA$')"
   ]
  },
  {
   "cell_type": "markdown",
   "metadata": {},
   "source": [
    "## 3.Inverse Burrows-Wheeler Transform Problem: Reconstruct a string from its Burrows-Wheeler transform.\n",
    "\n",
    "Input: A string Transform (with a single \"\\$$\" symbol).\n",
    "\n",
    "Output: The string Text such that BWT(Text) = Transform."
   ]
  },
  {
   "cell_type": "code",
   "execution_count": 5,
   "metadata": {},
   "outputs": [],
   "source": [
    "\n",
    "def inverse_bwt(text):\n",
    "    added_last = []\n",
    "    last_column = []\n",
    "    for i in text:\n",
    "        last_column.append(i+str(added_last.count(i)+1))\n",
    "        added_last.append(i)\n",
    "    added_first = []\n",
    "    first_column = []\n",
    "    for i in sorted(text):\n",
    "        first_column.append(i+str(added_first.count(i)+1))\n",
    "        added_first.append(i)\n",
    "    row_index = last_column.index('$1')\n",
    "    first_symbol = first_column[row_index]\n",
    "    current_symbol = '$1'\n",
    "    string = ''\n",
    "    while current_symbol!=first_symbol:\n",
    "        current_index = first_column.index(current_symbol)\n",
    "        current_symbol = last_column[current_index]\n",
    "        string+=last_column[current_index]\n",
    "    return ''.join(x for x in string[::-1] if x.isalpha())+'$'\n",
    "        "
   ]
  },
  {
   "cell_type": "code",
   "execution_count": 6,
   "metadata": {},
   "outputs": [
    {
     "data": {
      "text/plain": [
       "'TACATCACGT$'"
      ]
     },
     "execution_count": 6,
     "metadata": {},
     "output_type": "execute_result"
    }
   ],
   "source": [
    "inverse_bwt('TTCCTAACG$A')"
   ]
  },
  {
   "cell_type": "markdown",
   "metadata": {},
   "source": [
    "## 4.Code Challenge: Implement BWMatching.\n",
    "\n",
    "Input: A string BWT(Text), followed by a collection of Patterns.\n",
    "\n",
    "Output: A list of integers, where the i-th integer corresponds to the number of substring matches of the i-th member of Patterns in Text.\n"
   ]
  },
  {
   "cell_type": "code",
   "execution_count": 7,
   "metadata": {},
   "outputs": [],
   "source": [
    "def label_symbols(symbol_list):\n",
    "    added = []\n",
    "    column = []\n",
    "    for i in symbol_list:\n",
    "        column.append(i+str(added.count(i)+1))\n",
    "        added.append(i)\n",
    "    return column"
   ]
  },
  {
   "cell_type": "code",
   "execution_count": 8,
   "metadata": {},
   "outputs": [],
   "source": [
    "def bwmatching(last_column, pattern, last_to_first):\n",
    "    top = 0\n",
    "    bottom = len(last_column) - 1\n",
    "    while True:\n",
    "        \n",
    "        if len(pattern)>0:\n",
    "            symbol = pattern[-1]\n",
    "            pattern = pattern[:-1]\n",
    "            if symbol in [x[0] for x in last_column][top:bottom+1]:\n",
    "                top_index = [x[0] for x in last_column[top:bottom+1]].index(symbol) + top\n",
    "                \n",
    "                bottom_index = (bottom - [x[0] for x in last_column[top:bottom+1]][::-1].index(symbol))\n",
    "                \n",
    "                top = last_to_first[top_index]\n",
    "                bottom = last_to_first[bottom_index]\n",
    "            else:\n",
    "                return 0\n",
    "        else:\n",
    "            return bottom - top + 1"
   ]
  },
  {
   "cell_type": "code",
   "execution_count": 9,
   "metadata": {},
   "outputs": [],
   "source": [
    "def multiple_bw_matching(text,patterns):\n",
    "    first_column = sorted(text)\n",
    "    last_column = text\n",
    "    first_column_labeled = label_symbols(first_column)\n",
    "    last_column_labeled = label_symbols(last_column)\n",
    "    last_to_first = {}\n",
    "    for i in last_column_labeled:\n",
    "        last_to_first[last_column_labeled.index(i)]=first_column_labeled.index(i)\n",
    "    \n",
    "    \n",
    "    pattern_matches = {}\n",
    "    for pattern in patterns:\n",
    "        pattern_matches[pattern] = bwmatching(last_column_labeled, pattern, last_to_first)\n",
    "            \n",
    "                    \n",
    "            \n",
    "            \n",
    "    return pattern_matches"
   ]
  },
  {
   "cell_type": "code",
   "execution_count": 10,
   "metadata": {},
   "outputs": [],
   "source": [
    "text = '''TCCTCTATGAGATCCTATTCTATGAAACCTTCA$GACCAAAATTCTCCGGC'''\n",
    "patterns = '''CCT CAC GAG CAG ATC'''.split(' ')"
   ]
  },
  {
   "cell_type": "code",
   "execution_count": 11,
   "metadata": {
    "scrolled": true
   },
   "outputs": [],
   "source": [
    "r = multiple_bw_matching(text,patterns)"
   ]
  },
  {
   "cell_type": "code",
   "execution_count": 12,
   "metadata": {},
   "outputs": [
    {
     "name": "stdout",
     "output_type": "stream",
     "text": [
      "2 1 1 0 1\n"
     ]
    }
   ],
   "source": [
    "print(*r.values())"
   ]
  }
 ],
 "metadata": {
  "kernelspec": {
   "display_name": "Python 3",
   "language": "python",
   "name": "python3"
  },
  "language_info": {
   "codemirror_mode": {
    "name": "ipython",
    "version": 3
   },
   "file_extension": ".py",
   "mimetype": "text/x-python",
   "name": "python",
   "nbconvert_exporter": "python",
   "pygments_lexer": "ipython3",
   "version": "3.7.1"
  }
 },
 "nbformat": 4,
 "nbformat_minor": 2
}
